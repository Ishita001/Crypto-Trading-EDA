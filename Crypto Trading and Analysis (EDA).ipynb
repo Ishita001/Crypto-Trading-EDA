{
 "cells": [
  {
   "cell_type": "markdown",
   "id": "7f506fe8",
   "metadata": {},
   "source": [
    "# Crypto Trading and Analysis (EDA)"
   ]
  },
  {
   "cell_type": "markdown",
   "id": "cfca5776",
   "metadata": {},
   "source": [
    "## Motivation:"
   ]
  },
  {
   "cell_type": "markdown",
   "id": "8c7f7ab6",
   "metadata": {},
   "source": [
    " Crypto Market has coins which are highly volatile in nature. Bitcoin itself was around 5K in 2013 and by the year 2021 it reached to 48 Lakhs which itself shows how volatile the market is. The dataset provides some interesting and valuable insights which help us in gathering some usefull knowledge. Being a data scientist we are very keen to understand such a market who data is not at all stable and keeps on changing frequently and making out new patterns with changing time. These introduction of new patterns with the time makes this problem itself a interesting one and keeps on motivating us to find some valuable information."
   ]
  },
  {
   "cell_type": "markdown",
   "id": "629bdecc",
   "metadata": {},
   "source": [
    "## Index:\n",
    "\n",
    "1. Installing Necessary Libraries\n",
    "1. Importing Necessary Libraries\n",
    "1. Importing the Dataset\n",
    "1. Statistical Description of the Dataset\n",
    "1. Data Preprocessing"
   ]
  },
  {
   "cell_type": "markdown",
   "id": "59898e0d",
   "metadata": {},
   "source": [
    "## 1.) Installing Necessary Libraries"
   ]
  },
  {
   "cell_type": "code",
   "execution_count": 4,
   "id": "6d0569db",
   "metadata": {},
   "outputs": [
    {
     "name": "stdout",
     "output_type": "stream",
     "text": [
      "Requirement already satisfied: pandas in c:\\users\\lenovo\\anaconda3\\lib\\site-packages (1.2.4)\n",
      "Requirement already satisfied: numpy>=1.16.5 in c:\\users\\lenovo\\anaconda3\\lib\\site-packages (from pandas) (1.20.1)\n",
      "Requirement already satisfied: python-dateutil>=2.7.3 in c:\\users\\lenovo\\anaconda3\\lib\\site-packages (from pandas) (2.8.1)\n",
      "Requirement already satisfied: pytz>=2017.3 in c:\\users\\lenovo\\anaconda3\\lib\\site-packages (from pandas) (2021.1)\n",
      "Requirement already satisfied: six>=1.5 in c:\\users\\lenovo\\anaconda3\\lib\\site-packages (from python-dateutil>=2.7.3->pandas) (1.15.0)\n"
     ]
    }
   ],
   "source": [
    "!pip install pandas"
   ]
  },
  {
   "cell_type": "markdown",
   "id": "2a3c6006",
   "metadata": {},
   "source": [
    "## 2.) Importing Necessary Libraries"
   ]
  },
  {
   "cell_type": "code",
   "execution_count": 5,
   "id": "ab842d9a",
   "metadata": {},
   "outputs": [],
   "source": [
    "import pandas as pd\n",
    "from scipy.stats import pearsonr\n",
    "import matplotlib.pyplot as plt\n",
    "import numpy as np"
   ]
  },
  {
   "cell_type": "code",
   "execution_count": 6,
   "id": "a4a4d712",
   "metadata": {},
   "outputs": [
    {
     "data": {
      "text/plain": [
       "<Figure size 1440x720 with 0 Axes>"
      ]
     },
     "execution_count": 6,
     "metadata": {},
     "output_type": "execute_result"
    },
    {
     "data": {
      "text/plain": [
       "<Figure size 1440x720 with 0 Axes>"
      ]
     },
     "metadata": {},
     "output_type": "display_data"
    }
   ],
   "source": [
    "# setting matplotlib screen for vsiualizations\n",
    "\n",
    "plt.figure(figsize=(20, 10))"
   ]
  },
  {
   "cell_type": "markdown",
   "id": "8d950948",
   "metadata": {},
   "source": [
    "## 3.) Importing the Dataset"
   ]
  },
  {
   "cell_type": "code",
   "execution_count": 7,
   "id": "f67b00fd",
   "metadata": {},
   "outputs": [],
   "source": [
    "# importing the XRP data\n",
    "xrp_data = pd.read_csv('coin_XRP.csv')"
   ]
  },
  {
   "cell_type": "code",
   "execution_count": 8,
   "id": "a2a80af6",
   "metadata": {},
   "outputs": [
    {
     "data": {
      "text/html": [
       "<div>\n",
       "<style scoped>\n",
       "    .dataframe tbody tr th:only-of-type {\n",
       "        vertical-align: middle;\n",
       "    }\n",
       "\n",
       "    .dataframe tbody tr th {\n",
       "        vertical-align: top;\n",
       "    }\n",
       "\n",
       "    .dataframe thead th {\n",
       "        text-align: right;\n",
       "    }\n",
       "</style>\n",
       "<table border=\"1\" class=\"dataframe\">\n",
       "  <thead>\n",
       "    <tr style=\"text-align: right;\">\n",
       "      <th></th>\n",
       "      <th>SNo</th>\n",
       "      <th>Name</th>\n",
       "      <th>Symbol</th>\n",
       "      <th>Date</th>\n",
       "      <th>High</th>\n",
       "      <th>Low</th>\n",
       "      <th>Open</th>\n",
       "      <th>Close</th>\n",
       "      <th>Volume</th>\n",
       "      <th>Marketcap</th>\n",
       "      <th>Adjacent Close</th>\n",
       "    </tr>\n",
       "  </thead>\n",
       "  <tbody>\n",
       "    <tr>\n",
       "      <th>2888</th>\n",
       "      <td>2889</td>\n",
       "      <td>XRP</td>\n",
       "      <td>XRP</td>\n",
       "      <td>02-07-2021 23:59</td>\n",
       "      <td>0.667287</td>\n",
       "      <td>0.634726</td>\n",
       "      <td>0.659890</td>\n",
       "      <td>0.656763</td>\n",
       "      <td>2.061607e+09</td>\n",
       "      <td>3.030759e+10</td>\n",
       "      <td>0.656763</td>\n",
       "    </tr>\n",
       "    <tr>\n",
       "      <th>2889</th>\n",
       "      <td>2890</td>\n",
       "      <td>XRP</td>\n",
       "      <td>XRP</td>\n",
       "      <td>03-07-2021 23:59</td>\n",
       "      <td>0.683677</td>\n",
       "      <td>0.644653</td>\n",
       "      <td>0.655639</td>\n",
       "      <td>0.672888</td>\n",
       "      <td>1.872820e+09</td>\n",
       "      <td>3.105172e+10</td>\n",
       "      <td>0.672888</td>\n",
       "    </tr>\n",
       "    <tr>\n",
       "      <th>2890</th>\n",
       "      <td>2891</td>\n",
       "      <td>XRP</td>\n",
       "      <td>XRP</td>\n",
       "      <td>04-07-2021 23:59</td>\n",
       "      <td>0.707783</td>\n",
       "      <td>0.665802</td>\n",
       "      <td>0.673218</td>\n",
       "      <td>0.694945</td>\n",
       "      <td>1.885242e+09</td>\n",
       "      <td>3.206960e+10</td>\n",
       "      <td>0.694945</td>\n",
       "    </tr>\n",
       "    <tr>\n",
       "      <th>2891</th>\n",
       "      <td>2892</td>\n",
       "      <td>XRP</td>\n",
       "      <td>XRP</td>\n",
       "      <td>05-07-2021 23:59</td>\n",
       "      <td>0.695653</td>\n",
       "      <td>0.648492</td>\n",
       "      <td>0.695653</td>\n",
       "      <td>0.654300</td>\n",
       "      <td>2.076373e+09</td>\n",
       "      <td>3.019395e+10</td>\n",
       "      <td>0.654300</td>\n",
       "    </tr>\n",
       "    <tr>\n",
       "      <th>2892</th>\n",
       "      <td>2893</td>\n",
       "      <td>XRP</td>\n",
       "      <td>XRP</td>\n",
       "      <td>06-07-2021 23:59</td>\n",
       "      <td>0.679923</td>\n",
       "      <td>0.652676</td>\n",
       "      <td>0.653055</td>\n",
       "      <td>0.665402</td>\n",
       "      <td>1.938959e+09</td>\n",
       "      <td>3.072284e+10</td>\n",
       "      <td>0.665402</td>\n",
       "    </tr>\n",
       "  </tbody>\n",
       "</table>\n",
       "</div>"
      ],
      "text/plain": [
       "       SNo Name Symbol              Date      High       Low      Open  \\\n",
       "2888  2889  XRP    XRP  02-07-2021 23:59  0.667287  0.634726  0.659890   \n",
       "2889  2890  XRP    XRP  03-07-2021 23:59  0.683677  0.644653  0.655639   \n",
       "2890  2891  XRP    XRP  04-07-2021 23:59  0.707783  0.665802  0.673218   \n",
       "2891  2892  XRP    XRP  05-07-2021 23:59  0.695653  0.648492  0.695653   \n",
       "2892  2893  XRP    XRP  06-07-2021 23:59  0.679923  0.652676  0.653055   \n",
       "\n",
       "         Close        Volume     Marketcap  Adjacent Close  \n",
       "2888  0.656763  2.061607e+09  3.030759e+10        0.656763  \n",
       "2889  0.672888  1.872820e+09  3.105172e+10        0.672888  \n",
       "2890  0.694945  1.885242e+09  3.206960e+10        0.694945  \n",
       "2891  0.654300  2.076373e+09  3.019395e+10        0.654300  \n",
       "2892  0.665402  1.938959e+09  3.072284e+10        0.665402  "
      ]
     },
     "execution_count": 8,
     "metadata": {},
     "output_type": "execute_result"
    }
   ],
   "source": [
    "# looking the last five rows of XRP Coin Data\n",
    "xrp_data.tail()"
   ]
  },
  {
   "cell_type": "code",
   "execution_count": 9,
   "id": "afd80817",
   "metadata": {},
   "outputs": [],
   "source": [
    "# importing the Bitcoin Data\n",
    "btc_data = pd.read_csv('coin_Bitcoin.csv')"
   ]
  },
  {
   "cell_type": "code",
   "execution_count": 10,
   "id": "bf48c562",
   "metadata": {},
   "outputs": [
    {
     "data": {
      "text/html": [
       "<div>\n",
       "<style scoped>\n",
       "    .dataframe tbody tr th:only-of-type {\n",
       "        vertical-align: middle;\n",
       "    }\n",
       "\n",
       "    .dataframe tbody tr th {\n",
       "        vertical-align: top;\n",
       "    }\n",
       "\n",
       "    .dataframe thead th {\n",
       "        text-align: right;\n",
       "    }\n",
       "</style>\n",
       "<table border=\"1\" class=\"dataframe\">\n",
       "  <thead>\n",
       "    <tr style=\"text-align: right;\">\n",
       "      <th></th>\n",
       "      <th>SNo</th>\n",
       "      <th>Name</th>\n",
       "      <th>Symbol</th>\n",
       "      <th>Date</th>\n",
       "      <th>High</th>\n",
       "      <th>Low</th>\n",
       "      <th>Open</th>\n",
       "      <th>Close</th>\n",
       "      <th>Volume</th>\n",
       "      <th>Marketcap</th>\n",
       "      <th>Adjacent Close</th>\n",
       "    </tr>\n",
       "  </thead>\n",
       "  <tbody>\n",
       "    <tr>\n",
       "      <th>2986</th>\n",
       "      <td>2987</td>\n",
       "      <td>Bitcoin</td>\n",
       "      <td>BTC</td>\n",
       "      <td>02-07-2021 23:59</td>\n",
       "      <td>33939.58870</td>\n",
       "      <td>32770.68078</td>\n",
       "      <td>33549.60018</td>\n",
       "      <td>33897.04859</td>\n",
       "      <td>3.872897e+10</td>\n",
       "      <td>6.354510e+11</td>\n",
       "      <td>33897.04859</td>\n",
       "    </tr>\n",
       "    <tr>\n",
       "      <th>2987</th>\n",
       "      <td>2988</td>\n",
       "      <td>Bitcoin</td>\n",
       "      <td>BTC</td>\n",
       "      <td>03-07-2021 23:59</td>\n",
       "      <td>34909.25990</td>\n",
       "      <td>33402.69654</td>\n",
       "      <td>33854.42136</td>\n",
       "      <td>34668.54840</td>\n",
       "      <td>2.438396e+10</td>\n",
       "      <td>6.499400e+11</td>\n",
       "      <td>34668.54840</td>\n",
       "    </tr>\n",
       "    <tr>\n",
       "      <th>2988</th>\n",
       "      <td>2989</td>\n",
       "      <td>Bitcoin</td>\n",
       "      <td>BTC</td>\n",
       "      <td>04-07-2021 23:59</td>\n",
       "      <td>35937.56715</td>\n",
       "      <td>34396.47746</td>\n",
       "      <td>34665.56487</td>\n",
       "      <td>35287.77977</td>\n",
       "      <td>2.492431e+10</td>\n",
       "      <td>6.615750e+11</td>\n",
       "      <td>35287.77977</td>\n",
       "    </tr>\n",
       "    <tr>\n",
       "      <th>2989</th>\n",
       "      <td>2990</td>\n",
       "      <td>Bitcoin</td>\n",
       "      <td>BTC</td>\n",
       "      <td>05-07-2021 23:59</td>\n",
       "      <td>35284.34443</td>\n",
       "      <td>33213.66103</td>\n",
       "      <td>35284.34443</td>\n",
       "      <td>33746.00246</td>\n",
       "      <td>2.672155e+10</td>\n",
       "      <td>6.326960e+11</td>\n",
       "      <td>33746.00246</td>\n",
       "    </tr>\n",
       "    <tr>\n",
       "      <th>2990</th>\n",
       "      <td>2991</td>\n",
       "      <td>Bitcoin</td>\n",
       "      <td>BTC</td>\n",
       "      <td>06-07-2021 23:59</td>\n",
       "      <td>35038.53636</td>\n",
       "      <td>33599.91617</td>\n",
       "      <td>33723.50966</td>\n",
       "      <td>34235.19345</td>\n",
       "      <td>2.650126e+10</td>\n",
       "      <td>6.418990e+11</td>\n",
       "      <td>34235.19345</td>\n",
       "    </tr>\n",
       "  </tbody>\n",
       "</table>\n",
       "</div>"
      ],
      "text/plain": [
       "       SNo     Name Symbol              Date         High          Low  \\\n",
       "2986  2987  Bitcoin    BTC  02-07-2021 23:59  33939.58870  32770.68078   \n",
       "2987  2988  Bitcoin    BTC  03-07-2021 23:59  34909.25990  33402.69654   \n",
       "2988  2989  Bitcoin    BTC  04-07-2021 23:59  35937.56715  34396.47746   \n",
       "2989  2990  Bitcoin    BTC  05-07-2021 23:59  35284.34443  33213.66103   \n",
       "2990  2991  Bitcoin    BTC  06-07-2021 23:59  35038.53636  33599.91617   \n",
       "\n",
       "             Open        Close        Volume     Marketcap  Adjacent Close  \n",
       "2986  33549.60018  33897.04859  3.872897e+10  6.354510e+11     33897.04859  \n",
       "2987  33854.42136  34668.54840  2.438396e+10  6.499400e+11     34668.54840  \n",
       "2988  34665.56487  35287.77977  2.492431e+10  6.615750e+11     35287.77977  \n",
       "2989  35284.34443  33746.00246  2.672155e+10  6.326960e+11     33746.00246  \n",
       "2990  33723.50966  34235.19345  2.650126e+10  6.418990e+11     34235.19345  "
      ]
     },
     "execution_count": 10,
     "metadata": {},
     "output_type": "execute_result"
    }
   ],
   "source": [
    "# looking the last five rows of Bitcoin Coin Data\n",
    "btc_data.tail()"
   ]
  },
  {
   "cell_type": "markdown",
   "id": "daeeb2a3",
   "metadata": {},
   "source": [
    "## 4.) Statistical Description of the Dataset"
   ]
  },
  {
   "cell_type": "code",
   "execution_count": 11,
   "id": "c5905dd8",
   "metadata": {},
   "outputs": [
    {
     "name": "stdout",
     "output_type": "stream",
     "text": [
      "<class 'pandas.core.frame.DataFrame'>\n",
      "RangeIndex: 2893 entries, 0 to 2892\n",
      "Data columns (total 11 columns):\n",
      " #   Column          Non-Null Count  Dtype  \n",
      "---  ------          --------------  -----  \n",
      " 0   SNo             2893 non-null   int64  \n",
      " 1   Name            2893 non-null   object \n",
      " 2   Symbol          2893 non-null   object \n",
      " 3   Date            2893 non-null   object \n",
      " 4   High            2893 non-null   float64\n",
      " 5   Low             2893 non-null   float64\n",
      " 6   Open            2893 non-null   float64\n",
      " 7   Close           2893 non-null   float64\n",
      " 8   Volume          2893 non-null   float64\n",
      " 9   Marketcap       2893 non-null   float64\n",
      " 10  Adjacent Close  2893 non-null   float64\n",
      "dtypes: float64(7), int64(1), object(3)\n",
      "memory usage: 248.7+ KB\n"
     ]
    },
    {
     "data": {
      "text/plain": [
       "((2893, 11), None)"
      ]
     },
     "execution_count": 11,
     "metadata": {},
     "output_type": "execute_result"
    }
   ],
   "source": [
    "xrp_data.shape, xrp_data.info()"
   ]
  },
  {
   "cell_type": "code",
   "execution_count": 12,
   "id": "7394c048",
   "metadata": {},
   "outputs": [
    {
     "data": {
      "text/html": [
       "<div>\n",
       "<style scoped>\n",
       "    .dataframe tbody tr th:only-of-type {\n",
       "        vertical-align: middle;\n",
       "    }\n",
       "\n",
       "    .dataframe tbody tr th {\n",
       "        vertical-align: top;\n",
       "    }\n",
       "\n",
       "    .dataframe thead th {\n",
       "        text-align: right;\n",
       "    }\n",
       "</style>\n",
       "<table border=\"1\" class=\"dataframe\">\n",
       "  <thead>\n",
       "    <tr style=\"text-align: right;\">\n",
       "      <th></th>\n",
       "      <th>SNo</th>\n",
       "      <th>High</th>\n",
       "      <th>Low</th>\n",
       "      <th>Open</th>\n",
       "      <th>Close</th>\n",
       "      <th>Volume</th>\n",
       "      <th>Marketcap</th>\n",
       "      <th>Adjacent Close</th>\n",
       "    </tr>\n",
       "  </thead>\n",
       "  <tbody>\n",
       "    <tr>\n",
       "      <th>count</th>\n",
       "      <td>2893.000000</td>\n",
       "      <td>2893.000000</td>\n",
       "      <td>2893.000000</td>\n",
       "      <td>2893.000000</td>\n",
       "      <td>2893.000000</td>\n",
       "      <td>2.893000e+03</td>\n",
       "      <td>2.893000e+03</td>\n",
       "      <td>2893.000000</td>\n",
       "    </tr>\n",
       "    <tr>\n",
       "      <th>mean</th>\n",
       "      <td>1447.000000</td>\n",
       "      <td>0.246591</td>\n",
       "      <td>0.222000</td>\n",
       "      <td>0.234548</td>\n",
       "      <td>0.234790</td>\n",
       "      <td>1.260299e+09</td>\n",
       "      <td>9.678506e+09</td>\n",
       "      <td>0.234790</td>\n",
       "    </tr>\n",
       "    <tr>\n",
       "      <th>std</th>\n",
       "      <td>835.281489</td>\n",
       "      <td>0.365393</td>\n",
       "      <td>0.311581</td>\n",
       "      <td>0.338544</td>\n",
       "      <td>0.338629</td>\n",
       "      <td>3.137958e+09</td>\n",
       "      <td>1.385907e+10</td>\n",
       "      <td>0.338629</td>\n",
       "    </tr>\n",
       "    <tr>\n",
       "      <th>min</th>\n",
       "      <td>1.000000</td>\n",
       "      <td>0.003082</td>\n",
       "      <td>0.002802</td>\n",
       "      <td>0.002809</td>\n",
       "      <td>0.002810</td>\n",
       "      <td>0.000000e+00</td>\n",
       "      <td>2.196991e+07</td>\n",
       "      <td>0.002810</td>\n",
       "    </tr>\n",
       "    <tr>\n",
       "      <th>25%</th>\n",
       "      <td>724.000000</td>\n",
       "      <td>0.007531</td>\n",
       "      <td>0.007093</td>\n",
       "      <td>0.007332</td>\n",
       "      <td>0.007346</td>\n",
       "      <td>4.780950e+05</td>\n",
       "      <td>2.263168e+08</td>\n",
       "      <td>0.007346</td>\n",
       "    </tr>\n",
       "    <tr>\n",
       "      <th>50%</th>\n",
       "      <td>1447.000000</td>\n",
       "      <td>0.189184</td>\n",
       "      <td>0.176196</td>\n",
       "      <td>0.181968</td>\n",
       "      <td>0.182608</td>\n",
       "      <td>1.119370e+08</td>\n",
       "      <td>7.523251e+09</td>\n",
       "      <td>0.182608</td>\n",
       "    </tr>\n",
       "    <tr>\n",
       "      <th>75%</th>\n",
       "      <td>2170.000000</td>\n",
       "      <td>0.320751</td>\n",
       "      <td>0.303941</td>\n",
       "      <td>0.312021</td>\n",
       "      <td>0.312465</td>\n",
       "      <td>1.238721e+09</td>\n",
       "      <td>1.306444e+10</td>\n",
       "      <td>0.312465</td>\n",
       "    </tr>\n",
       "    <tr>\n",
       "      <th>max</th>\n",
       "      <td>2893.000000</td>\n",
       "      <td>3.841940</td>\n",
       "      <td>3.117340</td>\n",
       "      <td>3.363570</td>\n",
       "      <td>3.377810</td>\n",
       "      <td>3.695518e+10</td>\n",
       "      <td>1.308530e+11</td>\n",
       "      <td>3.377810</td>\n",
       "    </tr>\n",
       "  </tbody>\n",
       "</table>\n",
       "</div>"
      ],
      "text/plain": [
       "               SNo         High          Low         Open        Close  \\\n",
       "count  2893.000000  2893.000000  2893.000000  2893.000000  2893.000000   \n",
       "mean   1447.000000     0.246591     0.222000     0.234548     0.234790   \n",
       "std     835.281489     0.365393     0.311581     0.338544     0.338629   \n",
       "min       1.000000     0.003082     0.002802     0.002809     0.002810   \n",
       "25%     724.000000     0.007531     0.007093     0.007332     0.007346   \n",
       "50%    1447.000000     0.189184     0.176196     0.181968     0.182608   \n",
       "75%    2170.000000     0.320751     0.303941     0.312021     0.312465   \n",
       "max    2893.000000     3.841940     3.117340     3.363570     3.377810   \n",
       "\n",
       "             Volume     Marketcap  Adjacent Close  \n",
       "count  2.893000e+03  2.893000e+03     2893.000000  \n",
       "mean   1.260299e+09  9.678506e+09        0.234790  \n",
       "std    3.137958e+09  1.385907e+10        0.338629  \n",
       "min    0.000000e+00  2.196991e+07        0.002810  \n",
       "25%    4.780950e+05  2.263168e+08        0.007346  \n",
       "50%    1.119370e+08  7.523251e+09        0.182608  \n",
       "75%    1.238721e+09  1.306444e+10        0.312465  \n",
       "max    3.695518e+10  1.308530e+11        3.377810  "
      ]
     },
     "execution_count": 12,
     "metadata": {},
     "output_type": "execute_result"
    }
   ],
   "source": [
    "xrp_data.describe()"
   ]
  },
  {
   "cell_type": "code",
   "execution_count": 13,
   "id": "b31a84ab",
   "metadata": {},
   "outputs": [
    {
     "name": "stdout",
     "output_type": "stream",
     "text": [
      "<class 'pandas.core.frame.DataFrame'>\n",
      "RangeIndex: 2991 entries, 0 to 2990\n",
      "Data columns (total 11 columns):\n",
      " #   Column          Non-Null Count  Dtype  \n",
      "---  ------          --------------  -----  \n",
      " 0   SNo             2991 non-null   int64  \n",
      " 1   Name            2991 non-null   object \n",
      " 2   Symbol          2991 non-null   object \n",
      " 3   Date            2991 non-null   object \n",
      " 4   High            2991 non-null   float64\n",
      " 5   Low             2991 non-null   float64\n",
      " 6   Open            2991 non-null   float64\n",
      " 7   Close           2991 non-null   float64\n",
      " 8   Volume          2991 non-null   float64\n",
      " 9   Marketcap       2991 non-null   float64\n",
      " 10  Adjacent Close  2991 non-null   float64\n",
      "dtypes: float64(7), int64(1), object(3)\n",
      "memory usage: 257.2+ KB\n"
     ]
    },
    {
     "data": {
      "text/plain": [
       "((2991, 11), None)"
      ]
     },
     "execution_count": 13,
     "metadata": {},
     "output_type": "execute_result"
    }
   ],
   "source": [
    "btc_data.shape, btc_data.info()"
   ]
  },
  {
   "cell_type": "code",
   "execution_count": 14,
   "id": "e13f1a62",
   "metadata": {},
   "outputs": [
    {
     "data": {
      "text/html": [
       "<div>\n",
       "<style scoped>\n",
       "    .dataframe tbody tr th:only-of-type {\n",
       "        vertical-align: middle;\n",
       "    }\n",
       "\n",
       "    .dataframe tbody tr th {\n",
       "        vertical-align: top;\n",
       "    }\n",
       "\n",
       "    .dataframe thead th {\n",
       "        text-align: right;\n",
       "    }\n",
       "</style>\n",
       "<table border=\"1\" class=\"dataframe\">\n",
       "  <thead>\n",
       "    <tr style=\"text-align: right;\">\n",
       "      <th></th>\n",
       "      <th>SNo</th>\n",
       "      <th>High</th>\n",
       "      <th>Low</th>\n",
       "      <th>Open</th>\n",
       "      <th>Close</th>\n",
       "      <th>Volume</th>\n",
       "      <th>Marketcap</th>\n",
       "      <th>Adjacent Close</th>\n",
       "    </tr>\n",
       "  </thead>\n",
       "  <tbody>\n",
       "    <tr>\n",
       "      <th>count</th>\n",
       "      <td>2991.000000</td>\n",
       "      <td>2991.000000</td>\n",
       "      <td>2991.000000</td>\n",
       "      <td>2991.000000</td>\n",
       "      <td>2991.000000</td>\n",
       "      <td>2.991000e+03</td>\n",
       "      <td>2.991000e+03</td>\n",
       "      <td>2991.000000</td>\n",
       "    </tr>\n",
       "    <tr>\n",
       "      <th>mean</th>\n",
       "      <td>1496.000000</td>\n",
       "      <td>6893.326038</td>\n",
       "      <td>6486.009539</td>\n",
       "      <td>6700.146240</td>\n",
       "      <td>6711.290443</td>\n",
       "      <td>1.090633e+10</td>\n",
       "      <td>1.208761e+11</td>\n",
       "      <td>6711.290443</td>\n",
       "    </tr>\n",
       "    <tr>\n",
       "      <th>std</th>\n",
       "      <td>863.571653</td>\n",
       "      <td>11642.832456</td>\n",
       "      <td>10869.032130</td>\n",
       "      <td>11288.043736</td>\n",
       "      <td>11298.141921</td>\n",
       "      <td>1.888895e+10</td>\n",
       "      <td>2.109438e+11</td>\n",
       "      <td>11298.141921</td>\n",
       "    </tr>\n",
       "    <tr>\n",
       "      <th>min</th>\n",
       "      <td>1.000000</td>\n",
       "      <td>74.561096</td>\n",
       "      <td>65.526001</td>\n",
       "      <td>68.504997</td>\n",
       "      <td>68.431000</td>\n",
       "      <td>0.000000e+00</td>\n",
       "      <td>7.784112e+08</td>\n",
       "      <td>68.431000</td>\n",
       "    </tr>\n",
       "    <tr>\n",
       "      <th>25%</th>\n",
       "      <td>748.500000</td>\n",
       "      <td>436.179001</td>\n",
       "      <td>422.879486</td>\n",
       "      <td>430.445496</td>\n",
       "      <td>430.569489</td>\n",
       "      <td>3.036725e+07</td>\n",
       "      <td>6.305579e+09</td>\n",
       "      <td>430.569489</td>\n",
       "    </tr>\n",
       "    <tr>\n",
       "      <th>50%</th>\n",
       "      <td>1496.000000</td>\n",
       "      <td>2387.610107</td>\n",
       "      <td>2178.500000</td>\n",
       "      <td>2269.889893</td>\n",
       "      <td>2286.409912</td>\n",
       "      <td>9.460360e+08</td>\n",
       "      <td>3.741503e+10</td>\n",
       "      <td>2286.409912</td>\n",
       "    </tr>\n",
       "    <tr>\n",
       "      <th>75%</th>\n",
       "      <td>2243.500000</td>\n",
       "      <td>8733.926948</td>\n",
       "      <td>8289.800460</td>\n",
       "      <td>8569.656493</td>\n",
       "      <td>8576.238715</td>\n",
       "      <td>1.592015e+10</td>\n",
       "      <td>1.499960e+11</td>\n",
       "      <td>8576.238715</td>\n",
       "    </tr>\n",
       "    <tr>\n",
       "      <th>max</th>\n",
       "      <td>2991.000000</td>\n",
       "      <td>64863.098910</td>\n",
       "      <td>62208.964370</td>\n",
       "      <td>63523.754870</td>\n",
       "      <td>63503.457930</td>\n",
       "      <td>3.509680e+11</td>\n",
       "      <td>1.186360e+12</td>\n",
       "      <td>63503.457930</td>\n",
       "    </tr>\n",
       "  </tbody>\n",
       "</table>\n",
       "</div>"
      ],
      "text/plain": [
       "               SNo          High           Low          Open         Close  \\\n",
       "count  2991.000000   2991.000000   2991.000000   2991.000000   2991.000000   \n",
       "mean   1496.000000   6893.326038   6486.009539   6700.146240   6711.290443   \n",
       "std     863.571653  11642.832456  10869.032130  11288.043736  11298.141921   \n",
       "min       1.000000     74.561096     65.526001     68.504997     68.431000   \n",
       "25%     748.500000    436.179001    422.879486    430.445496    430.569489   \n",
       "50%    1496.000000   2387.610107   2178.500000   2269.889893   2286.409912   \n",
       "75%    2243.500000   8733.926948   8289.800460   8569.656493   8576.238715   \n",
       "max    2991.000000  64863.098910  62208.964370  63523.754870  63503.457930   \n",
       "\n",
       "             Volume     Marketcap  Adjacent Close  \n",
       "count  2.991000e+03  2.991000e+03     2991.000000  \n",
       "mean   1.090633e+10  1.208761e+11     6711.290443  \n",
       "std    1.888895e+10  2.109438e+11    11298.141921  \n",
       "min    0.000000e+00  7.784112e+08       68.431000  \n",
       "25%    3.036725e+07  6.305579e+09      430.569489  \n",
       "50%    9.460360e+08  3.741503e+10     2286.409912  \n",
       "75%    1.592015e+10  1.499960e+11     8576.238715  \n",
       "max    3.509680e+11  1.186360e+12    63503.457930  "
      ]
     },
     "execution_count": 14,
     "metadata": {},
     "output_type": "execute_result"
    }
   ],
   "source": [
    "btc_data.describe()"
   ]
  },
  {
   "cell_type": "markdown",
   "id": "8e2683a3",
   "metadata": {},
   "source": [
    "### So, from here we can observe that from the year 2013 to 2021."
   ]
  },
  {
   "cell_type": "markdown",
   "id": "d2ae5a2a",
   "metadata": {},
   "source": [
    "### BTC attained a minimum value of 65.526001 USD which in INR is approximately Rs 5000"
   ]
  },
  {
   "cell_type": "markdown",
   "id": "7bfe48c6",
   "metadata": {},
   "source": [
    "### BTC attained a maximum value of 62208.964370 USD which is INR is approximately Rs 48,00,000"
   ]
  },
  {
   "cell_type": "markdown",
   "id": "6c8948f0",
   "metadata": {},
   "source": [
    "## 5.) Data Preprocessing"
   ]
  },
  {
   "cell_type": "markdown",
   "id": "3840539e",
   "metadata": {},
   "source": [
    "### For data preprocessing we will we doing the following:\n",
    "1. Data Cleaning\n",
    "1. Data Reduction"
   ]
  },
  {
   "cell_type": "markdown",
   "id": "f93d685d",
   "metadata": {},
   "source": [
    "### a.) Data Cleaning\n",
    "\n",
    "Cleaning the data by finding all the NA values and filling it\n",
    "\n",
    "We will try interpolating the dataset\n",
    "\n",
    "Interpolating : Taking the average value to the above and below valid value. Meaning to say that trying to fit in between the above and the below\n",
    "valid value.\n"
   ]
  },
  {
   "cell_type": "code",
   "execution_count": 15,
   "id": "4cd37020",
   "metadata": {},
   "outputs": [
    {
     "data": {
      "text/html": [
       "<div>\n",
       "<style scoped>\n",
       "    .dataframe tbody tr th:only-of-type {\n",
       "        vertical-align: middle;\n",
       "    }\n",
       "\n",
       "    .dataframe tbody tr th {\n",
       "        vertical-align: top;\n",
       "    }\n",
       "\n",
       "    .dataframe thead th {\n",
       "        text-align: right;\n",
       "    }\n",
       "</style>\n",
       "<table border=\"1\" class=\"dataframe\">\n",
       "  <thead>\n",
       "    <tr style=\"text-align: right;\">\n",
       "      <th></th>\n",
       "      <th>SNo</th>\n",
       "      <th>Name</th>\n",
       "      <th>Symbol</th>\n",
       "      <th>Date</th>\n",
       "      <th>High</th>\n",
       "      <th>Low</th>\n",
       "      <th>Open</th>\n",
       "      <th>Close</th>\n",
       "      <th>Volume</th>\n",
       "      <th>Marketcap</th>\n",
       "      <th>Adjacent Close</th>\n",
       "    </tr>\n",
       "  </thead>\n",
       "  <tbody>\n",
       "    <tr>\n",
       "      <th>2888</th>\n",
       "      <td>2889</td>\n",
       "      <td>XRP</td>\n",
       "      <td>XRP</td>\n",
       "      <td>02-07-2021 23:59</td>\n",
       "      <td>0.667287</td>\n",
       "      <td>0.634726</td>\n",
       "      <td>0.659890</td>\n",
       "      <td>0.656763</td>\n",
       "      <td>2.061607e+09</td>\n",
       "      <td>3.030759e+10</td>\n",
       "      <td>0.656763</td>\n",
       "    </tr>\n",
       "    <tr>\n",
       "      <th>2889</th>\n",
       "      <td>2890</td>\n",
       "      <td>XRP</td>\n",
       "      <td>XRP</td>\n",
       "      <td>03-07-2021 23:59</td>\n",
       "      <td>0.683677</td>\n",
       "      <td>0.644653</td>\n",
       "      <td>0.655639</td>\n",
       "      <td>0.672888</td>\n",
       "      <td>1.872820e+09</td>\n",
       "      <td>3.105172e+10</td>\n",
       "      <td>0.672888</td>\n",
       "    </tr>\n",
       "    <tr>\n",
       "      <th>2890</th>\n",
       "      <td>2891</td>\n",
       "      <td>XRP</td>\n",
       "      <td>XRP</td>\n",
       "      <td>04-07-2021 23:59</td>\n",
       "      <td>0.707783</td>\n",
       "      <td>0.665802</td>\n",
       "      <td>0.673218</td>\n",
       "      <td>0.694945</td>\n",
       "      <td>1.885242e+09</td>\n",
       "      <td>3.206960e+10</td>\n",
       "      <td>0.694945</td>\n",
       "    </tr>\n",
       "    <tr>\n",
       "      <th>2891</th>\n",
       "      <td>2892</td>\n",
       "      <td>XRP</td>\n",
       "      <td>XRP</td>\n",
       "      <td>05-07-2021 23:59</td>\n",
       "      <td>0.695653</td>\n",
       "      <td>0.648492</td>\n",
       "      <td>0.695653</td>\n",
       "      <td>0.654300</td>\n",
       "      <td>2.076373e+09</td>\n",
       "      <td>3.019395e+10</td>\n",
       "      <td>0.654300</td>\n",
       "    </tr>\n",
       "    <tr>\n",
       "      <th>2892</th>\n",
       "      <td>2893</td>\n",
       "      <td>XRP</td>\n",
       "      <td>XRP</td>\n",
       "      <td>06-07-2021 23:59</td>\n",
       "      <td>0.679923</td>\n",
       "      <td>0.652676</td>\n",
       "      <td>0.653055</td>\n",
       "      <td>0.665402</td>\n",
       "      <td>1.938959e+09</td>\n",
       "      <td>3.072284e+10</td>\n",
       "      <td>0.665402</td>\n",
       "    </tr>\n",
       "  </tbody>\n",
       "</table>\n",
       "</div>"
      ],
      "text/plain": [
       "       SNo Name Symbol              Date      High       Low      Open  \\\n",
       "2888  2889  XRP    XRP  02-07-2021 23:59  0.667287  0.634726  0.659890   \n",
       "2889  2890  XRP    XRP  03-07-2021 23:59  0.683677  0.644653  0.655639   \n",
       "2890  2891  XRP    XRP  04-07-2021 23:59  0.707783  0.665802  0.673218   \n",
       "2891  2892  XRP    XRP  05-07-2021 23:59  0.695653  0.648492  0.695653   \n",
       "2892  2893  XRP    XRP  06-07-2021 23:59  0.679923  0.652676  0.653055   \n",
       "\n",
       "         Close        Volume     Marketcap  Adjacent Close  \n",
       "2888  0.656763  2.061607e+09  3.030759e+10        0.656763  \n",
       "2889  0.672888  1.872820e+09  3.105172e+10        0.672888  \n",
       "2890  0.694945  1.885242e+09  3.206960e+10        0.694945  \n",
       "2891  0.654300  2.076373e+09  3.019395e+10        0.654300  \n",
       "2892  0.665402  1.938959e+09  3.072284e+10        0.665402  "
      ]
     },
     "execution_count": 15,
     "metadata": {},
     "output_type": "execute_result"
    }
   ],
   "source": [
    "xrp_data = xrp_data.interpolate()\n",
    "\n",
    "xrp_data.tail()"
   ]
  },
  {
   "cell_type": "code",
   "execution_count": 16,
   "id": "8ebdd977",
   "metadata": {},
   "outputs": [
    {
     "data": {
      "text/html": [
       "<div>\n",
       "<style scoped>\n",
       "    .dataframe tbody tr th:only-of-type {\n",
       "        vertical-align: middle;\n",
       "    }\n",
       "\n",
       "    .dataframe tbody tr th {\n",
       "        vertical-align: top;\n",
       "    }\n",
       "\n",
       "    .dataframe thead th {\n",
       "        text-align: right;\n",
       "    }\n",
       "</style>\n",
       "<table border=\"1\" class=\"dataframe\">\n",
       "  <thead>\n",
       "    <tr style=\"text-align: right;\">\n",
       "      <th></th>\n",
       "      <th>SNo</th>\n",
       "      <th>Name</th>\n",
       "      <th>Symbol</th>\n",
       "      <th>Date</th>\n",
       "      <th>High</th>\n",
       "      <th>Low</th>\n",
       "      <th>Open</th>\n",
       "      <th>Close</th>\n",
       "      <th>Volume</th>\n",
       "      <th>Marketcap</th>\n",
       "      <th>Adjacent Close</th>\n",
       "    </tr>\n",
       "  </thead>\n",
       "  <tbody>\n",
       "    <tr>\n",
       "      <th>2986</th>\n",
       "      <td>2987</td>\n",
       "      <td>Bitcoin</td>\n",
       "      <td>BTC</td>\n",
       "      <td>02-07-2021 23:59</td>\n",
       "      <td>33939.58870</td>\n",
       "      <td>32770.68078</td>\n",
       "      <td>33549.60018</td>\n",
       "      <td>33897.04859</td>\n",
       "      <td>3.872897e+10</td>\n",
       "      <td>6.354510e+11</td>\n",
       "      <td>33897.04859</td>\n",
       "    </tr>\n",
       "    <tr>\n",
       "      <th>2987</th>\n",
       "      <td>2988</td>\n",
       "      <td>Bitcoin</td>\n",
       "      <td>BTC</td>\n",
       "      <td>03-07-2021 23:59</td>\n",
       "      <td>34909.25990</td>\n",
       "      <td>33402.69654</td>\n",
       "      <td>33854.42136</td>\n",
       "      <td>34668.54840</td>\n",
       "      <td>2.438396e+10</td>\n",
       "      <td>6.499400e+11</td>\n",
       "      <td>34668.54840</td>\n",
       "    </tr>\n",
       "    <tr>\n",
       "      <th>2988</th>\n",
       "      <td>2989</td>\n",
       "      <td>Bitcoin</td>\n",
       "      <td>BTC</td>\n",
       "      <td>04-07-2021 23:59</td>\n",
       "      <td>35937.56715</td>\n",
       "      <td>34396.47746</td>\n",
       "      <td>34665.56487</td>\n",
       "      <td>35287.77977</td>\n",
       "      <td>2.492431e+10</td>\n",
       "      <td>6.615750e+11</td>\n",
       "      <td>35287.77977</td>\n",
       "    </tr>\n",
       "    <tr>\n",
       "      <th>2989</th>\n",
       "      <td>2990</td>\n",
       "      <td>Bitcoin</td>\n",
       "      <td>BTC</td>\n",
       "      <td>05-07-2021 23:59</td>\n",
       "      <td>35284.34443</td>\n",
       "      <td>33213.66103</td>\n",
       "      <td>35284.34443</td>\n",
       "      <td>33746.00246</td>\n",
       "      <td>2.672155e+10</td>\n",
       "      <td>6.326960e+11</td>\n",
       "      <td>33746.00246</td>\n",
       "    </tr>\n",
       "    <tr>\n",
       "      <th>2990</th>\n",
       "      <td>2991</td>\n",
       "      <td>Bitcoin</td>\n",
       "      <td>BTC</td>\n",
       "      <td>06-07-2021 23:59</td>\n",
       "      <td>35038.53636</td>\n",
       "      <td>33599.91617</td>\n",
       "      <td>33723.50966</td>\n",
       "      <td>34235.19345</td>\n",
       "      <td>2.650126e+10</td>\n",
       "      <td>6.418990e+11</td>\n",
       "      <td>34235.19345</td>\n",
       "    </tr>\n",
       "  </tbody>\n",
       "</table>\n",
       "</div>"
      ],
      "text/plain": [
       "       SNo     Name Symbol              Date         High          Low  \\\n",
       "2986  2987  Bitcoin    BTC  02-07-2021 23:59  33939.58870  32770.68078   \n",
       "2987  2988  Bitcoin    BTC  03-07-2021 23:59  34909.25990  33402.69654   \n",
       "2988  2989  Bitcoin    BTC  04-07-2021 23:59  35937.56715  34396.47746   \n",
       "2989  2990  Bitcoin    BTC  05-07-2021 23:59  35284.34443  33213.66103   \n",
       "2990  2991  Bitcoin    BTC  06-07-2021 23:59  35038.53636  33599.91617   \n",
       "\n",
       "             Open        Close        Volume     Marketcap  Adjacent Close  \n",
       "2986  33549.60018  33897.04859  3.872897e+10  6.354510e+11     33897.04859  \n",
       "2987  33854.42136  34668.54840  2.438396e+10  6.499400e+11     34668.54840  \n",
       "2988  34665.56487  35287.77977  2.492431e+10  6.615750e+11     35287.77977  \n",
       "2989  35284.34443  33746.00246  2.672155e+10  6.326960e+11     33746.00246  \n",
       "2990  33723.50966  34235.19345  2.650126e+10  6.418990e+11     34235.19345  "
      ]
     },
     "execution_count": 16,
     "metadata": {},
     "output_type": "execute_result"
    }
   ],
   "source": [
    "btc_data = btc_data.interpolate()\n",
    "\n",
    "btc_data.tail()"
   ]
  },
  {
   "cell_type": "markdown",
   "id": "c7533a7d",
   "metadata": {},
   "source": [
    "## (b) Data Reduction\n",
    "\n",
    "#### So, we wlll dropping few attributes which are redudant or have similarity with other attributes. In order to do so we will use Pearson Correlation Coeffecient between two columns.\n",
    "\n",
    "#### On Observing the above dataset, the Close and Adjacent Close appears to be the same.\n",
    "\n",
    "#### So, to ensure that the above mentioned attributes are the same we will use correlation analysis"
   ]
  },
  {
   "cell_type": "code",
   "execution_count": 17,
   "id": "945e7377",
   "metadata": {},
   "outputs": [
    {
     "data": {
      "text/plain": [
       "1.0"
      ]
     },
     "execution_count": 17,
     "metadata": {},
     "output_type": "execute_result"
    }
   ],
   "source": [
    "corr, _ = pearsonr(xrp_data['Close'], xrp_data['Adjacent Close'])\n",
    "corr = round(corr, 3)\n",
    "corr"
   ]
  },
  {
   "cell_type": "code",
   "execution_count": 18,
   "id": "0798b6b7",
   "metadata": {},
   "outputs": [
    {
     "data": {
      "text/plain": [
       "1.0"
      ]
     },
     "execution_count": 18,
     "metadata": {},
     "output_type": "execute_result"
    }
   ],
   "source": [
    "corr, _ = pearsonr(btc_data['Close'], btc_data['Adjacent Close'])\n",
    "corr = round(corr, 3)\n",
    "corr"
   ]
  },
  {
   "cell_type": "markdown",
   "id": "42968122",
   "metadata": {},
   "source": [
    "### So, from above we can see that both Close and Adjacent Close are exactly same attributes as their r value is exactly 1. Sowe will drop Adjacent Close from both XRP and BTC"
   ]
  },
  {
   "cell_type": "code",
   "execution_count": 19,
   "id": "ae76cb62",
   "metadata": {},
   "outputs": [
    {
     "data": {
      "text/html": [
       "<div>\n",
       "<style scoped>\n",
       "    .dataframe tbody tr th:only-of-type {\n",
       "        vertical-align: middle;\n",
       "    }\n",
       "\n",
       "    .dataframe tbody tr th {\n",
       "        vertical-align: top;\n",
       "    }\n",
       "\n",
       "    .dataframe thead th {\n",
       "        text-align: right;\n",
       "    }\n",
       "</style>\n",
       "<table border=\"1\" class=\"dataframe\">\n",
       "  <thead>\n",
       "    <tr style=\"text-align: right;\">\n",
       "      <th></th>\n",
       "      <th>SNo</th>\n",
       "      <th>Name</th>\n",
       "      <th>Symbol</th>\n",
       "      <th>Date</th>\n",
       "      <th>High</th>\n",
       "      <th>Low</th>\n",
       "      <th>Open</th>\n",
       "      <th>Close</th>\n",
       "      <th>Volume</th>\n",
       "      <th>Marketcap</th>\n",
       "    </tr>\n",
       "  </thead>\n",
       "  <tbody>\n",
       "    <tr>\n",
       "      <th>2888</th>\n",
       "      <td>2889</td>\n",
       "      <td>XRP</td>\n",
       "      <td>XRP</td>\n",
       "      <td>02-07-2021 23:59</td>\n",
       "      <td>0.667287</td>\n",
       "      <td>0.634726</td>\n",
       "      <td>0.659890</td>\n",
       "      <td>0.656763</td>\n",
       "      <td>2.061607e+09</td>\n",
       "      <td>3.030759e+10</td>\n",
       "    </tr>\n",
       "    <tr>\n",
       "      <th>2889</th>\n",
       "      <td>2890</td>\n",
       "      <td>XRP</td>\n",
       "      <td>XRP</td>\n",
       "      <td>03-07-2021 23:59</td>\n",
       "      <td>0.683677</td>\n",
       "      <td>0.644653</td>\n",
       "      <td>0.655639</td>\n",
       "      <td>0.672888</td>\n",
       "      <td>1.872820e+09</td>\n",
       "      <td>3.105172e+10</td>\n",
       "    </tr>\n",
       "    <tr>\n",
       "      <th>2890</th>\n",
       "      <td>2891</td>\n",
       "      <td>XRP</td>\n",
       "      <td>XRP</td>\n",
       "      <td>04-07-2021 23:59</td>\n",
       "      <td>0.707783</td>\n",
       "      <td>0.665802</td>\n",
       "      <td>0.673218</td>\n",
       "      <td>0.694945</td>\n",
       "      <td>1.885242e+09</td>\n",
       "      <td>3.206960e+10</td>\n",
       "    </tr>\n",
       "    <tr>\n",
       "      <th>2891</th>\n",
       "      <td>2892</td>\n",
       "      <td>XRP</td>\n",
       "      <td>XRP</td>\n",
       "      <td>05-07-2021 23:59</td>\n",
       "      <td>0.695653</td>\n",
       "      <td>0.648492</td>\n",
       "      <td>0.695653</td>\n",
       "      <td>0.654300</td>\n",
       "      <td>2.076373e+09</td>\n",
       "      <td>3.019395e+10</td>\n",
       "    </tr>\n",
       "    <tr>\n",
       "      <th>2892</th>\n",
       "      <td>2893</td>\n",
       "      <td>XRP</td>\n",
       "      <td>XRP</td>\n",
       "      <td>06-07-2021 23:59</td>\n",
       "      <td>0.679923</td>\n",
       "      <td>0.652676</td>\n",
       "      <td>0.653055</td>\n",
       "      <td>0.665402</td>\n",
       "      <td>1.938959e+09</td>\n",
       "      <td>3.072284e+10</td>\n",
       "    </tr>\n",
       "  </tbody>\n",
       "</table>\n",
       "</div>"
      ],
      "text/plain": [
       "       SNo Name Symbol              Date      High       Low      Open  \\\n",
       "2888  2889  XRP    XRP  02-07-2021 23:59  0.667287  0.634726  0.659890   \n",
       "2889  2890  XRP    XRP  03-07-2021 23:59  0.683677  0.644653  0.655639   \n",
       "2890  2891  XRP    XRP  04-07-2021 23:59  0.707783  0.665802  0.673218   \n",
       "2891  2892  XRP    XRP  05-07-2021 23:59  0.695653  0.648492  0.695653   \n",
       "2892  2893  XRP    XRP  06-07-2021 23:59  0.679923  0.652676  0.653055   \n",
       "\n",
       "         Close        Volume     Marketcap  \n",
       "2888  0.656763  2.061607e+09  3.030759e+10  \n",
       "2889  0.672888  1.872820e+09  3.105172e+10  \n",
       "2890  0.694945  1.885242e+09  3.206960e+10  \n",
       "2891  0.654300  2.076373e+09  3.019395e+10  \n",
       "2892  0.665402  1.938959e+09  3.072284e+10  "
      ]
     },
     "execution_count": 19,
     "metadata": {},
     "output_type": "execute_result"
    }
   ],
   "source": [
    "xrp_data.drop(['Adjacent Close'], axis = 1, inplace=True)\n",
    "\n",
    "xrp_data.tail()"
   ]
  },
  {
   "cell_type": "code",
   "execution_count": 20,
   "id": "f5a2af4e",
   "metadata": {},
   "outputs": [
    {
     "data": {
      "text/html": [
       "<div>\n",
       "<style scoped>\n",
       "    .dataframe tbody tr th:only-of-type {\n",
       "        vertical-align: middle;\n",
       "    }\n",
       "\n",
       "    .dataframe tbody tr th {\n",
       "        vertical-align: top;\n",
       "    }\n",
       "\n",
       "    .dataframe thead th {\n",
       "        text-align: right;\n",
       "    }\n",
       "</style>\n",
       "<table border=\"1\" class=\"dataframe\">\n",
       "  <thead>\n",
       "    <tr style=\"text-align: right;\">\n",
       "      <th></th>\n",
       "      <th>SNo</th>\n",
       "      <th>Name</th>\n",
       "      <th>Symbol</th>\n",
       "      <th>Date</th>\n",
       "      <th>High</th>\n",
       "      <th>Low</th>\n",
       "      <th>Open</th>\n",
       "      <th>Close</th>\n",
       "      <th>Volume</th>\n",
       "      <th>Marketcap</th>\n",
       "    </tr>\n",
       "  </thead>\n",
       "  <tbody>\n",
       "    <tr>\n",
       "      <th>2986</th>\n",
       "      <td>2987</td>\n",
       "      <td>Bitcoin</td>\n",
       "      <td>BTC</td>\n",
       "      <td>02-07-2021 23:59</td>\n",
       "      <td>33939.58870</td>\n",
       "      <td>32770.68078</td>\n",
       "      <td>33549.60018</td>\n",
       "      <td>33897.04859</td>\n",
       "      <td>3.872897e+10</td>\n",
       "      <td>6.354510e+11</td>\n",
       "    </tr>\n",
       "    <tr>\n",
       "      <th>2987</th>\n",
       "      <td>2988</td>\n",
       "      <td>Bitcoin</td>\n",
       "      <td>BTC</td>\n",
       "      <td>03-07-2021 23:59</td>\n",
       "      <td>34909.25990</td>\n",
       "      <td>33402.69654</td>\n",
       "      <td>33854.42136</td>\n",
       "      <td>34668.54840</td>\n",
       "      <td>2.438396e+10</td>\n",
       "      <td>6.499400e+11</td>\n",
       "    </tr>\n",
       "    <tr>\n",
       "      <th>2988</th>\n",
       "      <td>2989</td>\n",
       "      <td>Bitcoin</td>\n",
       "      <td>BTC</td>\n",
       "      <td>04-07-2021 23:59</td>\n",
       "      <td>35937.56715</td>\n",
       "      <td>34396.47746</td>\n",
       "      <td>34665.56487</td>\n",
       "      <td>35287.77977</td>\n",
       "      <td>2.492431e+10</td>\n",
       "      <td>6.615750e+11</td>\n",
       "    </tr>\n",
       "    <tr>\n",
       "      <th>2989</th>\n",
       "      <td>2990</td>\n",
       "      <td>Bitcoin</td>\n",
       "      <td>BTC</td>\n",
       "      <td>05-07-2021 23:59</td>\n",
       "      <td>35284.34443</td>\n",
       "      <td>33213.66103</td>\n",
       "      <td>35284.34443</td>\n",
       "      <td>33746.00246</td>\n",
       "      <td>2.672155e+10</td>\n",
       "      <td>6.326960e+11</td>\n",
       "    </tr>\n",
       "    <tr>\n",
       "      <th>2990</th>\n",
       "      <td>2991</td>\n",
       "      <td>Bitcoin</td>\n",
       "      <td>BTC</td>\n",
       "      <td>06-07-2021 23:59</td>\n",
       "      <td>35038.53636</td>\n",
       "      <td>33599.91617</td>\n",
       "      <td>33723.50966</td>\n",
       "      <td>34235.19345</td>\n",
       "      <td>2.650126e+10</td>\n",
       "      <td>6.418990e+11</td>\n",
       "    </tr>\n",
       "  </tbody>\n",
       "</table>\n",
       "</div>"
      ],
      "text/plain": [
       "       SNo     Name Symbol              Date         High          Low  \\\n",
       "2986  2987  Bitcoin    BTC  02-07-2021 23:59  33939.58870  32770.68078   \n",
       "2987  2988  Bitcoin    BTC  03-07-2021 23:59  34909.25990  33402.69654   \n",
       "2988  2989  Bitcoin    BTC  04-07-2021 23:59  35937.56715  34396.47746   \n",
       "2989  2990  Bitcoin    BTC  05-07-2021 23:59  35284.34443  33213.66103   \n",
       "2990  2991  Bitcoin    BTC  06-07-2021 23:59  35038.53636  33599.91617   \n",
       "\n",
       "             Open        Close        Volume     Marketcap  \n",
       "2986  33549.60018  33897.04859  3.872897e+10  6.354510e+11  \n",
       "2987  33854.42136  34668.54840  2.438396e+10  6.499400e+11  \n",
       "2988  34665.56487  35287.77977  2.492431e+10  6.615750e+11  \n",
       "2989  35284.34443  33746.00246  2.672155e+10  6.326960e+11  \n",
       "2990  33723.50966  34235.19345  2.650126e+10  6.418990e+11  "
      ]
     },
     "execution_count": 20,
     "metadata": {},
     "output_type": "execute_result"
    }
   ],
   "source": [
    "btc_data.drop(['Adjacent Close'], axis = 1, inplace=True)\n",
    "btc_data.tail()"
   ]
  },
  {
   "cell_type": "markdown",
   "id": "c3762192",
   "metadata": {},
   "source": [
    "## 6.) Finding patterns in the Dataset\n",
    "\n",
    "### (a) Plotting the Historical Return for BTC"
   ]
  },
  {
   "cell_type": "code",
   "execution_count": 21,
   "id": "513c2926",
   "metadata": {},
   "outputs": [],
   "source": [
    "#Creating a historical return column for BTC\n",
    "\n",
    "btc_data['Return'] = btc_data['Close'].pct_change()"
   ]
  },
  {
   "cell_type": "code",
   "execution_count": 22,
   "id": "eed3dff4",
   "metadata": {},
   "outputs": [
    {
     "data": {
      "text/html": [
       "<div>\n",
       "<style scoped>\n",
       "    .dataframe tbody tr th:only-of-type {\n",
       "        vertical-align: middle;\n",
       "    }\n",
       "\n",
       "    .dataframe tbody tr th {\n",
       "        vertical-align: top;\n",
       "    }\n",
       "\n",
       "    .dataframe thead th {\n",
       "        text-align: right;\n",
       "    }\n",
       "</style>\n",
       "<table border=\"1\" class=\"dataframe\">\n",
       "  <thead>\n",
       "    <tr style=\"text-align: right;\">\n",
       "      <th></th>\n",
       "      <th>SNo</th>\n",
       "      <th>Name</th>\n",
       "      <th>Symbol</th>\n",
       "      <th>Date</th>\n",
       "      <th>High</th>\n",
       "      <th>Low</th>\n",
       "      <th>Open</th>\n",
       "      <th>Close</th>\n",
       "      <th>Volume</th>\n",
       "      <th>Marketcap</th>\n",
       "      <th>Return</th>\n",
       "    </tr>\n",
       "  </thead>\n",
       "  <tbody>\n",
       "    <tr>\n",
       "      <th>2986</th>\n",
       "      <td>2987</td>\n",
       "      <td>Bitcoin</td>\n",
       "      <td>BTC</td>\n",
       "      <td>02-07-2021 23:59</td>\n",
       "      <td>33939.58870</td>\n",
       "      <td>32770.68078</td>\n",
       "      <td>33549.60018</td>\n",
       "      <td>33897.04859</td>\n",
       "      <td>3.872897e+10</td>\n",
       "      <td>6.354510e+11</td>\n",
       "      <td>0.009679</td>\n",
       "    </tr>\n",
       "    <tr>\n",
       "      <th>2987</th>\n",
       "      <td>2988</td>\n",
       "      <td>Bitcoin</td>\n",
       "      <td>BTC</td>\n",
       "      <td>03-07-2021 23:59</td>\n",
       "      <td>34909.25990</td>\n",
       "      <td>33402.69654</td>\n",
       "      <td>33854.42136</td>\n",
       "      <td>34668.54840</td>\n",
       "      <td>2.438396e+10</td>\n",
       "      <td>6.499400e+11</td>\n",
       "      <td>0.022760</td>\n",
       "    </tr>\n",
       "    <tr>\n",
       "      <th>2988</th>\n",
       "      <td>2989</td>\n",
       "      <td>Bitcoin</td>\n",
       "      <td>BTC</td>\n",
       "      <td>04-07-2021 23:59</td>\n",
       "      <td>35937.56715</td>\n",
       "      <td>34396.47746</td>\n",
       "      <td>34665.56487</td>\n",
       "      <td>35287.77977</td>\n",
       "      <td>2.492431e+10</td>\n",
       "      <td>6.615750e+11</td>\n",
       "      <td>0.017861</td>\n",
       "    </tr>\n",
       "    <tr>\n",
       "      <th>2989</th>\n",
       "      <td>2990</td>\n",
       "      <td>Bitcoin</td>\n",
       "      <td>BTC</td>\n",
       "      <td>05-07-2021 23:59</td>\n",
       "      <td>35284.34443</td>\n",
       "      <td>33213.66103</td>\n",
       "      <td>35284.34443</td>\n",
       "      <td>33746.00246</td>\n",
       "      <td>2.672155e+10</td>\n",
       "      <td>6.326960e+11</td>\n",
       "      <td>-0.043692</td>\n",
       "    </tr>\n",
       "    <tr>\n",
       "      <th>2990</th>\n",
       "      <td>2991</td>\n",
       "      <td>Bitcoin</td>\n",
       "      <td>BTC</td>\n",
       "      <td>06-07-2021 23:59</td>\n",
       "      <td>35038.53636</td>\n",
       "      <td>33599.91617</td>\n",
       "      <td>33723.50966</td>\n",
       "      <td>34235.19345</td>\n",
       "      <td>2.650126e+10</td>\n",
       "      <td>6.418990e+11</td>\n",
       "      <td>0.014496</td>\n",
       "    </tr>\n",
       "  </tbody>\n",
       "</table>\n",
       "</div>"
      ],
      "text/plain": [
       "       SNo     Name Symbol              Date         High          Low  \\\n",
       "2986  2987  Bitcoin    BTC  02-07-2021 23:59  33939.58870  32770.68078   \n",
       "2987  2988  Bitcoin    BTC  03-07-2021 23:59  34909.25990  33402.69654   \n",
       "2988  2989  Bitcoin    BTC  04-07-2021 23:59  35937.56715  34396.47746   \n",
       "2989  2990  Bitcoin    BTC  05-07-2021 23:59  35284.34443  33213.66103   \n",
       "2990  2991  Bitcoin    BTC  06-07-2021 23:59  35038.53636  33599.91617   \n",
       "\n",
       "             Open        Close        Volume     Marketcap    Return  \n",
       "2986  33549.60018  33897.04859  3.872897e+10  6.354510e+11  0.009679  \n",
       "2987  33854.42136  34668.54840  2.438396e+10  6.499400e+11  0.022760  \n",
       "2988  34665.56487  35287.77977  2.492431e+10  6.615750e+11  0.017861  \n",
       "2989  35284.34443  33746.00246  2.672155e+10  6.326960e+11 -0.043692  \n",
       "2990  33723.50966  34235.19345  2.650126e+10  6.418990e+11  0.014496  "
      ]
     },
     "execution_count": 22,
     "metadata": {},
     "output_type": "execute_result"
    }
   ],
   "source": [
    "btc_data.tail()"
   ]
  },
  {
   "cell_type": "code",
   "execution_count": 23,
   "id": "fc22bd72",
   "metadata": {},
   "outputs": [
    {
     "data": {
      "text/plain": [
       "0.0027406195412198893"
      ]
     },
     "execution_count": 23,
     "metadata": {},
     "output_type": "execute_result"
    }
   ],
   "source": [
    "#viewing the average return from BTC\n",
    "np.mean(btc_data['Return'])"
   ]
  },
  {
   "cell_type": "code",
   "execution_count": 24,
   "id": "df60df1d",
   "metadata": {},
   "outputs": [
    {
     "data": {
      "text/plain": [
       "<AxesSubplot:>"
      ]
     },
     "execution_count": 24,
     "metadata": {},
     "output_type": "execute_result"
    },
    {
     "data": {
      "image/png": "[encoded data removed]",
      "text/plain": [
       "<Figure size 432x288 with 1 Axes>"
      ]
     },
     "metadata": {
      "needs_background": "light"
     },
     "output_type": "display_data"
    }
   ],
   "source": [
    "btc_data['Return'].plot(style='k.')"
   ]
  },
  {
   "cell_type": "markdown",
   "id": "c263fd12",
   "metadata": {},
   "source": [
    "### (b) Plotting the Historical Return for XRP"
   ]
  },
  {
   "cell_type": "code",
   "execution_count": 25,
   "id": "fe07ec64",
   "metadata": {},
   "outputs": [
    {
     "data": {
      "text/html": [
       "<div>\n",
       "<style scoped>\n",
       "    .dataframe tbody tr th:only-of-type {\n",
       "        vertical-align: middle;\n",
       "    }\n",
       "\n",
       "    .dataframe tbody tr th {\n",
       "        vertical-align: top;\n",
       "    }\n",
       "\n",
       "    .dataframe thead th {\n",
       "        text-align: right;\n",
       "    }\n",
       "</style>\n",
       "<table border=\"1\" class=\"dataframe\">\n",
       "  <thead>\n",
       "    <tr style=\"text-align: right;\">\n",
       "      <th></th>\n",
       "      <th>SNo</th>\n",
       "      <th>Name</th>\n",
       "      <th>Symbol</th>\n",
       "      <th>Date</th>\n",
       "      <th>High</th>\n",
       "      <th>Low</th>\n",
       "      <th>Open</th>\n",
       "      <th>Close</th>\n",
       "      <th>Volume</th>\n",
       "      <th>Marketcap</th>\n",
       "      <th>Return</th>\n",
       "    </tr>\n",
       "  </thead>\n",
       "  <tbody>\n",
       "    <tr>\n",
       "      <th>2888</th>\n",
       "      <td>2889</td>\n",
       "      <td>XRP</td>\n",
       "      <td>XRP</td>\n",
       "      <td>02-07-2021 23:59</td>\n",
       "      <td>0.667287</td>\n",
       "      <td>0.634726</td>\n",
       "      <td>0.659890</td>\n",
       "      <td>0.656763</td>\n",
       "      <td>2.061607e+09</td>\n",
       "      <td>3.030759e+10</td>\n",
       "      <td>-0.006681</td>\n",
       "    </tr>\n",
       "    <tr>\n",
       "      <th>2889</th>\n",
       "      <td>2890</td>\n",
       "      <td>XRP</td>\n",
       "      <td>XRP</td>\n",
       "      <td>03-07-2021 23:59</td>\n",
       "      <td>0.683677</td>\n",
       "      <td>0.644653</td>\n",
       "      <td>0.655639</td>\n",
       "      <td>0.672888</td>\n",
       "      <td>1.872820e+09</td>\n",
       "      <td>3.105172e+10</td>\n",
       "      <td>0.024553</td>\n",
       "    </tr>\n",
       "    <tr>\n",
       "      <th>2890</th>\n",
       "      <td>2891</td>\n",
       "      <td>XRP</td>\n",
       "      <td>XRP</td>\n",
       "      <td>04-07-2021 23:59</td>\n",
       "      <td>0.707783</td>\n",
       "      <td>0.665802</td>\n",
       "      <td>0.673218</td>\n",
       "      <td>0.694945</td>\n",
       "      <td>1.885242e+09</td>\n",
       "      <td>3.206960e+10</td>\n",
       "      <td>0.032780</td>\n",
       "    </tr>\n",
       "    <tr>\n",
       "      <th>2891</th>\n",
       "      <td>2892</td>\n",
       "      <td>XRP</td>\n",
       "      <td>XRP</td>\n",
       "      <td>05-07-2021 23:59</td>\n",
       "      <td>0.695653</td>\n",
       "      <td>0.648492</td>\n",
       "      <td>0.695653</td>\n",
       "      <td>0.654300</td>\n",
       "      <td>2.076373e+09</td>\n",
       "      <td>3.019395e+10</td>\n",
       "      <td>-0.058487</td>\n",
       "    </tr>\n",
       "    <tr>\n",
       "      <th>2892</th>\n",
       "      <td>2893</td>\n",
       "      <td>XRP</td>\n",
       "      <td>XRP</td>\n",
       "      <td>06-07-2021 23:59</td>\n",
       "      <td>0.679923</td>\n",
       "      <td>0.652676</td>\n",
       "      <td>0.653055</td>\n",
       "      <td>0.665402</td>\n",
       "      <td>1.938959e+09</td>\n",
       "      <td>3.072284e+10</td>\n",
       "      <td>0.016968</td>\n",
       "    </tr>\n",
       "  </tbody>\n",
       "</table>\n",
       "</div>"
      ],
      "text/plain": [
       "       SNo Name Symbol              Date      High       Low      Open  \\\n",
       "2888  2889  XRP    XRP  02-07-2021 23:59  0.667287  0.634726  0.659890   \n",
       "2889  2890  XRP    XRP  03-07-2021 23:59  0.683677  0.644653  0.655639   \n",
       "2890  2891  XRP    XRP  04-07-2021 23:59  0.707783  0.665802  0.673218   \n",
       "2891  2892  XRP    XRP  05-07-2021 23:59  0.695653  0.648492  0.695653   \n",
       "2892  2893  XRP    XRP  06-07-2021 23:59  0.679923  0.652676  0.653055   \n",
       "\n",
       "         Close        Volume     Marketcap    Return  \n",
       "2888  0.656763  2.061607e+09  3.030759e+10 -0.006681  \n",
       "2889  0.672888  1.872820e+09  3.105172e+10  0.024553  \n",
       "2890  0.694945  1.885242e+09  3.206960e+10  0.032780  \n",
       "2891  0.654300  2.076373e+09  3.019395e+10 -0.058487  \n",
       "2892  0.665402  1.938959e+09  3.072284e+10  0.016968  "
      ]
     },
     "execution_count": 25,
     "metadata": {},
     "output_type": "execute_result"
    }
   ],
   "source": [
    "#Creating a historical return column for XRP\n",
    "\n",
    "xrp_data['Return'] = xrp_data['Close'].pct_change()\n",
    "xrp_data.tail()"
   ]
  },
  {
   "cell_type": "code",
   "execution_count": 26,
   "id": "e48cadfb",
   "metadata": {},
   "outputs": [
    {
     "data": {
      "text/plain": [
       "0.004478285900740008"
      ]
     },
     "execution_count": 26,
     "metadata": {},
     "output_type": "execute_result"
    }
   ],
   "source": [
    "#viewing the average return from XRP\n",
    "np.mean(xrp_data['Return'])"
   ]
  },
  {
   "cell_type": "code",
   "execution_count": 27,
   "id": "bf76dfd5",
   "metadata": {},
   "outputs": [
    {
     "data": {
      "text/plain": [
       "<AxesSubplot:>"
      ]
     },
     "execution_count": 27,
     "metadata": {},
     "output_type": "execute_result"
    },
    {
     "data": {
      "image/png": "[encoded data removed]",
      "text/plain": [
       "<Figure size 432x288 with 1 Axes>"
      ]
     },
     "metadata": {
      "needs_background": "light"
     },
     "output_type": "display_data"
    }
   ],
   "source": [
    "xrp_data['Return'].plot(style=\"k.\")"
   ]
  },
  {
   "cell_type": "markdown",
   "id": "46a76647",
   "metadata": {},
   "source": [
    "### (c) Plotting the Closing Price Series for BTC"
   ]
  },
  {
   "cell_type": "code",
   "execution_count": 28,
   "id": "4e8c291e",
   "metadata": {},
   "outputs": [
    {
     "data": {
      "image/png": "[encoded data removed]",
      "text/plain": [
       "<Figure size 432x288 with 1 Axes>"
      ]
     },
     "metadata": {
      "needs_background": "light"
     },
     "output_type": "display_data"
    }
   ],
   "source": [
    "pl1 = btc_data['Close'].plot(style=['-'])"
   ]
  },
  {
   "cell_type": "code",
   "execution_count": null,
   "id": "5ceb08ec",
   "metadata": {},
   "outputs": [],
   "source": [
    "(d) Plotting the closing price series for XRP"
   ]
  },
  {
   "cell_type": "code",
   "execution_count": null,
   "id": "25fc663e",
   "metadata": {},
   "outputs": [],
   "source": [
    "pl2 = xrp_data['Close'].plot(style = ['-'])"
   ]
  },
  {
   "cell_type": "markdown",
   "id": "d2264f03",
   "metadata": {},
   "source": [
    "## 7. Plotting the predicted and actual value\n",
    "Single Exponential Smoothing, SES for short, is a time series forecasting method for univariate data without a trend or seasonality. It requires a single parameter, called alpha\n",
    "(a), also called the smoothing factor or smoothing coefficient.\n",
    "We will be using SES for forecasting the closing values of the crypto currencies"
   ]
  },
  {
   "cell_type": "code",
   "execution_count": 29,
   "id": "01daf5e0",
   "metadata": {},
   "outputs": [
    {
     "name": "stderr",
     "output_type": "stream",
     "text": [
      "C:\\Users\\Lenovo\\anaconda3\\lib\\site-packages\\statsmodels\\tsa\\holtwinters\\model.py:427: FutureWarning: After 0.13 initialization must be handled at model creation\n",
      "  warnings.warn(\n"
     ]
    },
    {
     "data": {
      "text/plain": [
       "<AxesSubplot:>"
      ]
     },
     "execution_count": 29,
     "metadata": {},
     "output_type": "execute_result"
    },
    {
     "data": {
      "image/png": "[encoded data removed]",
      "text/plain": [
       "<Figure size 432x288 with 1 Axes>"
      ]
     },
     "metadata": {
      "needs_background": "light"
     },
     "output_type": "display_data"
    }
   ],
   "source": [
    "# Plotting the Pedicted and actual value for Bitcoin\n",
    "\n",
    "from statsmodels.tsa.holtwinters import SimpleExpSmoothing\n",
    "\n",
    "\n",
    "model = SimpleExpSmoothing(btc_data['Close']).fit(smoothing_level=.01, optimized=False)\n",
    "btc_data['Close'].plot(style = ['-'], color = 'red')\n",
    "model.fittedvalues.plot(style = ['-'], color = 'blue')"
   ]
  },
  {
   "cell_type": "markdown",
   "id": "9b31b67f",
   "metadata": {},
   "source": [
    "#### In the above figure, the red line shows the actual price while the blue line shows the predicted line."
   ]
  },
  {
   "cell_type": "code",
   "execution_count": 30,
   "id": "eb131cfa",
   "metadata": {},
   "outputs": [
    {
     "name": "stderr",
     "output_type": "stream",
     "text": [
      "C:\\Users\\Lenovo\\anaconda3\\lib\\site-packages\\statsmodels\\tsa\\holtwinters\\model.py:427: FutureWarning: After 0.13 initialization must be handled at model creation\n",
      "  warnings.warn(\n"
     ]
    },
    {
     "data": {
      "text/plain": [
       "<AxesSubplot:>"
      ]
     },
     "execution_count": 30,
     "metadata": {},
     "output_type": "execute_result"
    },
    {
     "data": {
      "image/png": "[encoded data removed]",
      "text/plain": [
       "<Figure size 432x288 with 1 Axes>"
      ]
     },
     "metadata": {
      "needs_background": "light"
     },
     "output_type": "display_data"
    }
   ],
   "source": [
    "# Plotting the Pedicted and actual value for XRP\n",
    "\n",
    "from statsmodels.tsa.holtwinters import SimpleExpSmoothing\n",
    "\n",
    "\n",
    "model = SimpleExpSmoothing(xrp_data['Close']).fit(smoothing_level=.01, optimized=False)\n",
    "\n",
    "xrp_data['Close'].plot(style = ['-'], color = 'red')\n",
    "model.fittedvalues.plot(style = ['-'], color = 'blue')"
   ]
  },
  {
   "cell_type": "markdown",
   "id": "14f42d12",
   "metadata": {},
   "source": [
    "#### In the above figure, the red line shows the actual price while the blue line shows the predicted line."
   ]
  },
  {
   "cell_type": "markdown",
   "id": "c9faf3b4",
   "metadata": {},
   "source": [
    "## 8. Finding relationship between BTC and XRP Returns using Linear Regression"
   ]
  },
  {
   "cell_type": "code",
   "execution_count": 31,
   "id": "e6b84978",
   "metadata": {},
   "outputs": [
    {
     "data": {
      "image/png": "[encoded data removed]",
      "text/plain": [
       "<Figure size 720x504 with 1 Axes>"
      ]
     },
     "metadata": {
      "needs_background": "light"
     },
     "output_type": "display_data"
    }
   ],
   "source": [
    "import seaborn as sns\n",
    "fig, ax = plt.subplots(figsize=(10,7))\n",
    "\n",
    "btc_return = btc_data['Close'].pct_change().dropna()\n",
    "xrp_return = xrp_data['Close'].pct_change().dropna()\n",
    "\n",
    "regplot = sns.regplot(x=btc_return[:2800], y=xrp_return[:2800], color = 'g', marker = '+')\n",
    "regplot.set(xlabel = 'BTC % Return', ylabel = 'XRP % Return')\n",
    "sns.set_style(\"whitegrid\")"
   ]
  },
  {
   "cell_type": "markdown",
   "id": "a5ef8d7e",
   "metadata": {},
   "source": [
    "### So, from the above we can see that both XRP and BTC returns are highly correlated.\n"
   ]
  }
 ],
 "metadata": {
  "kernelspec": {
   "display_name": "Python 3",
   "language": "python",
   "name": "python3"
  },
  "language_info": {
   "codemirror_mode": {
    "name": "ipython",
    "version": 3
   },
   "file_extension": ".py",
   "mimetype": "text/x-python",
   "name": "python",
   "nbconvert_exporter": "python",
   "pygments_lexer": "ipython3",
   "version": "3.8.8"
  }
 },
 "nbformat": 4,
 "nbformat_minor": 5
}
